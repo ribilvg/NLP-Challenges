{
 "cells": [
  {
   "cell_type": "code",
   "execution_count": 1,
   "metadata": {
    "collapsed": true
   },
   "outputs": [],
   "source": [
    "import nltk\n",
    "import random\n",
    "import string\n",
    "import numpy as np"
   ]
  },
  {
   "cell_type": "code",
   "execution_count": 2,
   "metadata": {
    "collapsed": false
   },
   "outputs": [
    {
     "data": {
      "text/plain": [
       "10796"
      ]
     },
     "execution_count": 2,
     "metadata": {},
     "output_type": "execute_result"
    }
   ],
   "source": [
    "F = open(\"corpus.txt\",\"r\")\n",
    "data = F.read()\n",
    "#splitting the whole text into paragraphs and stored in a list\n",
    "para_list = data.split('\\n\\n')\n",
    "len(para_list)"
   ]
  },
  {
   "cell_type": "code",
   "execution_count": 3,
   "metadata": {
    "collapsed": true
   },
   "outputs": [],
   "source": [
    "bees = ['am','is','was','are','were','be','been','being']"
   ]
  },
  {
   "cell_type": "code",
   "execution_count": 4,
   "metadata": {
    "collapsed": false
   },
   "outputs": [],
   "source": [
    "bigrams = {}\n",
    "for i in range(len(para_list)):\n",
    "    s = para_list[i].lower()\n",
    "    tokens = nltk.tokenize.word_tokenize(s)\n",
    "    for j in range(len(tokens) - 1):\n",
    "        if tokens[j] in bees:\n",
    "            k = tokens[j-1]\n",
    "            if k not in bigrams:\n",
    "                bigrams[k] = []\n",
    "            bigrams[k].append(tokens[j])\n",
    "#Dictionary with the previous word as keys and 'be' words as values."
   ]
  },
  {
   "cell_type": "code",
   "execution_count": 5,
   "metadata": {
    "collapsed": true
   },
   "outputs": [],
   "source": [
    "bigram_probabilities = {}\n",
    "for k, words in bigrams.items():\n",
    "    d = {}\n",
    "    n = 0\n",
    "    for w in words:\n",
    "        if w not in d:\n",
    "            d[w] = 0\n",
    "        d[w] += 1\n",
    "        n += 1\n",
    "    for w, c in d.items():\n",
    "        d[w] = float(c) / n\n",
    "    bigram_probabilities[k] = d\n",
    "    \n",
    "#Nested dictionary with previous words as outer keys, 'be' words as inner keys and their probability as inner values. "
   ]
  },
  {
   "cell_type": "code",
   "execution_count": 6,
   "metadata": {
    "collapsed": false
   },
   "outputs": [
    {
     "data": {
      "text/plain": [
       "2699"
      ]
     },
     "execution_count": 6,
     "metadata": {},
     "output_type": "execute_result"
    }
   ],
   "source": [
    "len(bigrams)"
   ]
  },
  {
   "cell_type": "code",
   "execution_count": 7,
   "metadata": {
    "collapsed": false
   },
   "outputs": [
    {
     "data": {
      "text/plain": [
       "2699"
      ]
     },
     "execution_count": 7,
     "metadata": {},
     "output_type": "execute_result"
    }
   ],
   "source": [
    "len(bigram_probabilities)"
   ]
  },
  {
   "cell_type": "code",
   "execution_count": 8,
   "metadata": {
    "collapsed": false
   },
   "outputs": [
    {
     "data": {
      "text/plain": [
       "{'am': 0.021671826625386997,\n",
       " 'are': 0.02476780185758514,\n",
       " 'be': 0.05263157894736842,\n",
       " 'been': 0.0030959752321981426,\n",
       " 'being': 0.02786377708978328,\n",
       " 'is': 0.06811145510835913,\n",
       " 'was': 0.6470588235294118,\n",
       " 'were': 0.15479876160990713}"
      ]
     },
     "execution_count": 8,
     "metadata": {},
     "output_type": "execute_result"
    }
   ],
   "source": [
    "bigram_probabilities['and']"
   ]
  },
  {
   "cell_type": "code",
   "execution_count": 9,
   "metadata": {
    "collapsed": false
   },
   "outputs": [
    {
     "name": "stdout",
     "output_type": "stream",
     "text": [
      "Please enter the number of blanks (1-20) : 6\n",
      "Please enter the article with maximum characters not exceeding 5000 \n",
      "When the modern Olympics began in 1896, the initiators and organizers ---- looking for a great popularizing event, recalling the ancient glory of Greece. The idea of a marathon race came from Michel Breal, who wanted the event to feature in the first modern Olympic Games in 1896 in Athens. This idea was heavily supported by Pierre de Coubertin, the founder of the modern Olympics, as well as by the Greeks. The Greeks staged a selection race for the Olympic marathon on 10 March 1896 that ---- won by Charilaos Vasilakos in 3 hours and 18 minutes (with the future winner of the introductory Olympic Games marathon coming in fifth). The winner of the first Olympic Marathon, on 10 April 1896 (a male-only race), was Spyridon \"Spyros\" Louis, a Greek water-carrier, in 2 hours 58 minutes and 50 seconds. The women's marathon ---- introduced at the 1984 Summer Olympics (Los Angeles, USA) and ---- won by Joan Benoit of the United States with a time of 2 hours 24 minutes and 52 seconds. Since the modern games were founded, it has become a tradition for the men's Olympic marathon to be the last event of the athletics calendar, with a finish inside the Olympic stadium, often within hours of, or even incorporated into, the closing ceremonies. The marathon of the 2004 Summer Olympics revived the traditional route from Marathon to Athens, ending at Panathinaiko Stadium, the venue for the 1896 Summer Olympics. Since the modern games ---- founded, it has become a tradition for the men's Olympic marathon to be the last event of the athletics calendar, with a finish inside the Olympic stadium, often within hours of, or even incorporated into, the closing ceremonies. The marathon of the 2004 Summer Olympics revived the traditional route from Marathon to Athens, ending at Panathinaiko Stadium, the venue for the 1896 Summer Olympics. The Olympic men's record ---- 2:06:32.\n",
      "\n",
      "----\n",
      "is\n",
      "----\n",
      "was\n",
      "are\n",
      "is\n"
     ]
    }
   ],
   "source": [
    "N = int(input(\"Please enter the number of blanks (1-20) : \"))\n",
    "article = input(\"Please enter the article with maximum characters not exceeding 5000 \\n\")\n",
    "print()\n",
    "\n",
    "blank = []\n",
    "count = 0\n",
    "if ((N >=1) and (N <= 20) and (len(article) <= 5000)):\n",
    "    text = article.lower()\n",
    "    tokens_text = text.split()\n",
    "    for i in range(len(tokens_text)):\n",
    "        if (tokens_text[i] == \"----\"):\n",
    "            count +=1\n",
    "            k = tokens_text[i-1]\n",
    "            if k in bigrams:\n",
    "                d = bigram_probabilities[k]\n",
    "                maximum = 0\n",
    "                for b,v in d.items():\n",
    "                    if (v > maximum):\n",
    "                        maximum = v\n",
    "                for b,v in d.items():\n",
    "                    if (v == maximum):\n",
    "                        blank.append(b)\n",
    "                       \n",
    "            else:\n",
    "                blank.append(\"----\")\n",
    "                \n",
    "    if ( count == N):\n",
    "        for i in range(N):\n",
    "            print(blank[i])\n",
    "    else:\n",
    "        print(\"Number of blanks not matching with input!!!\")\n",
    "        \n",
    "else:\n",
    "    print(\"Maximum limit exceeded!!!\")"
   ]
  },
  {
   "cell_type": "code",
   "execution_count": 10,
   "metadata": {
    "collapsed": true
   },
   "outputs": [],
   "source": [
    "#With more training corpus , we can improve the accuracy by forming trigrams instead of bigrams"
   ]
  }
 ],
 "metadata": {
  "anaconda-cloud": {},
  "kernelspec": {
   "display_name": "Python [conda root]",
   "language": "python",
   "name": "conda-root-py"
  },
  "language_info": {
   "codemirror_mode": {
    "name": "ipython",
    "version": 3
   },
   "file_extension": ".py",
   "mimetype": "text/x-python",
   "name": "python",
   "nbconvert_exporter": "python",
   "pygments_lexer": "ipython3",
   "version": "3.5.2"
  }
 },
 "nbformat": 4,
 "nbformat_minor": 2
}
